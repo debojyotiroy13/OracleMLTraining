{
 "cells": [
  {
   "cell_type": "code",
   "execution_count": 1,
   "metadata": {},
   "outputs": [],
   "source": [
    "%matplotlib inline\n",
    "\n",
    "\n",
    "# Numerical libraries\n",
    "import numpy as np   \n",
    "\n",
    "# Import Linear Regression machine learning library\n",
    "from sklearn.linear_model import LinearRegression\n",
    "from sklearn.linear_model import Ridge\n",
    "from sklearn.linear_model import Lasso\n",
    "\n",
    "from sklearn.metrics import r2_score\n",
    "\n",
    "# to handle data in form of rows and columns \n",
    "import pandas as pd    \n",
    "\n",
    "# importing ploting libraries\n",
    "import matplotlib.pyplot as plt   \n",
    "\n",
    "#importing seaborn for statistical plots\n",
    "import seaborn as sns"
   ]
  },
  {
   "cell_type": "code",
   "execution_count": 44,
   "metadata": {},
   "outputs": [],
   "source": [
    "mpg_df = pd.read_csv(\"car-mpg.csv\")  \n",
    "mpg_df = mpg_df.drop('car_name', axis=1)\n",
    "mpg_df['origin'] = mpg_df['origin'].replace({1: 'america', 2: 'europe', 3: 'asia'})\n",
    "# Dummy variable - drop_first=True to ensure one less dummy variable is defined\n",
    "mpg_df = pd.get_dummies(mpg_df, columns=['origin'],drop_first=True)\n",
    "mpg_df = mpg_df.replace('?', np.nan)\n",
    "mpg_df = mpg_df.apply(lambda x: x.fillna(x.median()),axis=0)\n",
    "mpg_df['hp'] = mpg_df['hp'].astype('float64')"
   ]
  },
  {
   "cell_type": "code",
   "execution_count": 45,
   "metadata": {},
   "outputs": [
    {
     "name": "stdout",
     "output_type": "stream",
     "text": [
      "<class 'pandas.core.frame.DataFrame'>\n",
      "RangeIndex: 398 entries, 0 to 397\n",
      "Data columns (total 10 columns):\n",
      "mpg              398 non-null float64\n",
      "cyl              398 non-null int64\n",
      "disp             398 non-null float64\n",
      "hp               398 non-null float64\n",
      "wt               398 non-null int64\n",
      "acc              398 non-null float64\n",
      "yr               398 non-null int64\n",
      "car_type         398 non-null int64\n",
      "origin_asia      398 non-null int64\n",
      "origin_europe    398 non-null int64\n",
      "dtypes: float64(4), int64(6)\n",
      "memory usage: 31.2 KB\n"
     ]
    }
   ],
   "source": [
    "mpg_df.info()"
   ]
  },
  {
   "cell_type": "markdown",
   "metadata": {},
   "source": [
    "# separate independent and dependent variables"
   ]
  },
  {
   "cell_type": "code",
   "execution_count": 46,
   "metadata": {},
   "outputs": [],
   "source": [
    "# Copy all the predictor variables into X dataframe. Since 'mpg' is dependent variable drop it\n",
    "X = mpg_df.drop('mpg', axis=1)\n",
    "\n",
    "# Copy the 'mpg' column alone into the y dataframe. This is the dependent variable\n",
    "y = mpg_df[['mpg']]\n"
   ]
  },
  {
   "cell_type": "code",
   "execution_count": 47,
   "metadata": {},
   "outputs": [],
   "source": [
    "#from sklearn import preprocessing\n",
    "\n",
    "# scale all the columns of the mpg_df. This will produce a numpy array\n",
    "#X_scaled = preprocessing.scale(X)\n",
    "#X_scaled = pd.DataFrame(X_scaled, columns=X.columns) "
   ]
  },
  {
   "cell_type": "code",
   "execution_count": 48,
   "metadata": {},
   "outputs": [],
   "source": [
    "from sklearn.preprocessing import StandardScaler  \n",
    "scaler = StandardScaler()  \n",
    "X_scaled = scaler.fit_transform(X)  \n",
    "X_scaled = pd.DataFrame(X_scaled, columns=X.columns) "
   ]
  },
  {
   "cell_type": "code",
   "execution_count": 49,
   "metadata": {},
   "outputs": [],
   "source": [
    "\n",
    "from sklearn.model_selection import train_test_split\n",
    "\n",
    "X_train, X_test, y_train, y_test = train_test_split(X_scaled, y, test_size=0.30, random_state=1)"
   ]
  },
  {
   "cell_type": "markdown",
   "metadata": {},
   "source": [
    "# fit a simple linear model"
   ]
  },
  {
   "cell_type": "code",
   "execution_count": 50,
   "metadata": {},
   "outputs": [
    {
     "name": "stdout",
     "output_type": "stream",
     "text": [
      "Intercept:  [23.66510774]\n",
      "The coefficient for cyl is 2.505951804938502\n",
      "The coefficient for disp is 2.5357082860560487\n",
      "The coefficient for hp is -1.7889335736325305\n",
      "The coefficient for wt is -5.551819873098723\n",
      "The coefficient for acc is 0.11485734803440784\n",
      "The coefficient for yr is 2.9318465482116087\n",
      "The coefficient for car_type is 2.9778697376019427\n",
      "The coefficient for origin_asia is 0.82822701429572\n",
      "The coefficient for origin_europe is 0.8362781383948816\n"
     ]
    }
   ],
   "source": [
    "regression_model = LinearRegression()\n",
    "regression_model.fit(X_train, y_train)\n",
    "\n",
    "print(\"Intercept: \", regression_model.intercept_)\n",
    "for idx, col_name in enumerate(X_train.columns):\n",
    "    print(\"The coefficient for {} is {}\".format(col_name, regression_model.coef_[0][idx]))"
   ]
  },
  {
   "cell_type": "code",
   "execution_count": 51,
   "metadata": {},
   "outputs": [
    {
     "name": "stdout",
     "output_type": "stream",
     "text": [
      "0.8343770256960538\n",
      "0.8513421387780066\n"
     ]
    }
   ],
   "source": [
    "print(regression_model.score(X_train, y_train))\n",
    "print(regression_model.score(X_test, y_test))\n"
   ]
  },
  {
   "cell_type": "markdown",
   "metadata": {},
   "source": [
    "# Create a regularized RIDGE model and note the coefficients"
   ]
  },
  {
   "cell_type": "code",
   "execution_count": 52,
   "metadata": {},
   "outputs": [
    {
     "name": "stdout",
     "output_type": "stream",
     "text": [
      "Ridge model: [[ 2.38873168  2.24584874 -1.77595406 -5.30121587  0.0716231   2.90348182\n",
      "   2.87200551  0.8120093   0.81048147]]\n"
     ]
    }
   ],
   "source": [
    "ridge = Ridge(alpha=1)\n",
    "ridge.fit(X_train,y_train)\n",
    "print (\"Ridge model:\", (ridge.coef_))"
   ]
  },
  {
   "cell_type": "code",
   "execution_count": null,
   "metadata": {},
   "outputs": [],
   "source": []
  },
  {
   "cell_type": "code",
   "execution_count": 53,
   "metadata": {},
   "outputs": [
    {
     "name": "stdout",
     "output_type": "stream",
     "text": [
      "Intercept:  [23.6626684]\n",
      "The coefficient for cyl is 2.3887316759448187\n",
      "The coefficient for disp is 2.245848744133584\n",
      "The coefficient for hp is -1.7759540641596028\n",
      "The coefficient for wt is -5.30121587484919\n",
      "The coefficient for acc is 0.07162310453347369\n",
      "The coefficient for yr is 2.9034818184786206\n",
      "The coefficient for car_type is 2.8720055111319427\n",
      "The coefficient for origin_asia is 0.812009304699243\n",
      "The coefficient for origin_europe is 0.8104814685705717\n"
     ]
    }
   ],
   "source": [
    "print(\"Intercept: \", ridge.intercept_)\n",
    "for idx, col_name in enumerate(X_train.columns):\n",
    "    print(\"The coefficient for {} is {}\".format(col_name, ridge.coef_[0][idx]))"
   ]
  },
  {
   "cell_type": "code",
   "execution_count": 54,
   "metadata": {},
   "outputs": [
    {
     "name": "stdout",
     "output_type": "stream",
     "text": [
      "0.8342199644938272\n",
      "0.852973535261167\n"
     ]
    }
   ],
   "source": [
    "print(ridge.score(X_train, y_train))\n",
    "print(ridge.score(X_test, y_test))"
   ]
  },
  {
   "cell_type": "markdown",
   "metadata": {},
   "source": [
    "# Create a regularized LASSO model and note the coefficients"
   ]
  },
  {
   "cell_type": "code",
   "execution_count": 55,
   "metadata": {},
   "outputs": [
    {
     "name": "stdout",
     "output_type": "stream",
     "text": [
      "Lasso model: [-0.         -0.         -0.05656463 -4.05009448  0.          2.03034296\n",
      "  0.95988039  0.          0.        ]\n"
     ]
    }
   ],
   "source": [
    "lasso = Lasso(alpha=1)\n",
    "lasso.fit(X_train,y_train)\n",
    "print (\"Lasso model:\", (lasso.coef_))\n",
    "\n",
    "# Observe, many of the coefficients have become 0 indicating drop of those dimensions from the model"
   ]
  },
  {
   "cell_type": "code",
   "execution_count": 56,
   "metadata": {},
   "outputs": [
    {
     "name": "stdout",
     "output_type": "stream",
     "text": [
      "0.7821044353977104\n",
      "0.8251153919895945\n"
     ]
    }
   ],
   "source": [
    "print(lasso.score(X_train, y_train))\n",
    "print(lasso.score(X_test, y_test))"
   ]
  },
  {
   "cell_type": "markdown",
   "metadata": {},
   "source": [
    "## Let us compare their scores"
   ]
  },
  {
   "cell_type": "code",
   "execution_count": 57,
   "metadata": {},
   "outputs": [
    {
     "name": "stdout",
     "output_type": "stream",
     "text": [
      "0.8343770256960538\n",
      "0.8513421387780066\n"
     ]
    }
   ],
   "source": [
    "print(regression_model.score(X_train, y_train))\n",
    "print(regression_model.score(X_test, y_test))\n"
   ]
  },
  {
   "cell_type": "code",
   "execution_count": 58,
   "metadata": {},
   "outputs": [
    {
     "name": "stdout",
     "output_type": "stream",
     "text": [
      "0.8342199644938272\n",
      "0.852973535261167\n"
     ]
    }
   ],
   "source": [
    "print(ridge.score(X_train, y_train))\n",
    "print(ridge.score(X_test, y_test))"
   ]
  },
  {
   "cell_type": "code",
   "execution_count": 59,
   "metadata": {},
   "outputs": [
    {
     "name": "stdout",
     "output_type": "stream",
     "text": [
      "0.7821044353977104\n",
      "0.8251153919895945\n"
     ]
    }
   ],
   "source": [
    "print(lasso.score(X_train, y_train))\n",
    "print(lasso.score(X_test, y_test))"
   ]
  },
  {
   "cell_type": "markdown",
   "metadata": {},
   "source": [
    "# Let us generate polynomial models reflecting the non-linear interaction between some dimensions"
   ]
  },
  {
   "cell_type": "code",
   "execution_count": 60,
   "metadata": {},
   "outputs": [],
   "source": [
    "from sklearn.preprocessing import PolynomialFeatures"
   ]
  },
  {
   "cell_type": "code",
   "execution_count": 61,
   "metadata": {},
   "outputs": [],
   "source": [
    "poly = PolynomialFeatures(degree = 2, include_bias=False)\n"
   ]
  },
  {
   "cell_type": "code",
   "execution_count": 62,
   "metadata": {},
   "outputs": [
    {
     "data": {
      "text/plain": [
       "(278, 54)"
      ]
     },
     "execution_count": 62,
     "metadata": {},
     "output_type": "execute_result"
    }
   ],
   "source": [
    "X_poly = poly.fit_transform(X_scaled )\n",
    "X_train, X_test, y_train, y_test = train_test_split(X_poly, y, test_size=0.30, random_state=1)\n",
    "X_train.shape"
   ]
  },
  {
   "cell_type": "code",
   "execution_count": 63,
   "metadata": {},
   "outputs": [],
   "source": [
    "#Formating of output can be done by getting columns using following command\n",
    "#poly.get_feature_names(X_scaled.columns)"
   ]
  },
  {
   "cell_type": "markdown",
   "metadata": {},
   "source": [
    "# Fit a simple non regularized linear model on poly features-"
   ]
  },
  {
   "cell_type": "code",
   "execution_count": 76,
   "metadata": {},
   "outputs": [
    {
     "name": "stdout",
     "output_type": "stream",
     "text": [
      "[-1.14014742e+12 -5.27307129e+00 -2.76361084e+00 -2.00994873e+00\n",
      " -1.58142090e+00  3.07208252e+00 -1.44300744e+12  2.82896700e+11\n",
      "  1.82679488e+11  1.19471019e+12 -3.41394043e+00 -1.39099121e+00\n",
      "  4.14916992e-01  1.98034668e+00 -1.71093750e+00 -1.80170924e+12\n",
      "  3.40338119e+12  2.71306429e+12  1.97998047e+00  8.87451172e-02\n",
      " -8.35449219e-01 -5.10742188e-01  3.82397461e+00 -1.97119141e+00\n",
      " -6.44921875e+00 -1.02514648e+00 -4.48608398e-01  1.05834961e+00\n",
      " -1.51733398e+00 -1.15234375e+00 -1.40539551e+00  9.95117188e-01\n",
      "  1.50341797e+00 -2.13439941e-01  4.14550781e-01 -2.79541016e-01\n",
      " -3.28442383e+00  2.19335938e+00  6.40869141e-02 -2.58911133e-01\n",
      "  4.56665039e-01  8.45703125e-01 -7.20214844e-03  1.03594971e+00\n",
      "  1.07716370e+00  2.28256226e-01  7.12219238e-01  1.08795166e+00\n",
      "  1.74348325e+11  1.99967968e+12  1.59407931e+12  4.27691123e+11\n",
      " -2.21598517e+11  3.11045233e+11]\n"
     ]
    }
   ],
   "source": [
    "regression_model.fit(X_train, y_train)\n",
    "print(regression_model.coef_[0])"
   ]
  },
  {
   "cell_type": "code",
   "execution_count": 77,
   "metadata": {},
   "outputs": [
    {
     "name": "stdout",
     "output_type": "stream",
     "text": [
      "0.922796908951997\n",
      "0.8484016423240605\n"
     ]
    }
   ],
   "source": [
    "print(regression_model.score(X_train, y_train))\n",
    "print(regression_model.score(X_test, y_test))"
   ]
  },
  {
   "cell_type": "markdown",
   "metadata": {},
   "source": [
    "## Ridge - modify ALPHA values to get better score"
   ]
  },
  {
   "cell_type": "code",
   "execution_count": 66,
   "metadata": {},
   "outputs": [
    {
     "name": "stdout",
     "output_type": "stream",
     "text": [
      "Ridge model: [[ 2.63865541e+00 -2.37408486e+00 -2.65212967e+00 -3.12107114e+00\n",
      "  -1.12746233e+00  3.07077235e+00  1.52909161e+00  2.02604877e-01\n",
      "  -2.87629850e-01 -1.37945713e+00 -1.09966208e+00 -1.01078797e+00\n",
      "   3.32260057e-01  1.56812916e+00 -9.84590552e-01  1.30667566e-02\n",
      "   2.36932639e+00 -1.39028192e+00  4.81491658e-01  2.39331914e-01\n",
      "   9.28459487e-02 -2.52840506e-01  2.70741772e+00 -1.61539650e+00\n",
      "  -9.84221502e-01 -4.98508396e-01 -1.74610449e-01  2.22020751e-01\n",
      "  -9.95456295e-01 -1.05636540e+00 -1.36102812e+00  6.38279930e-01\n",
      "   1.17200558e+00 -9.22402736e-02 -1.58827979e-02 -1.17973218e-01\n",
      "  -2.39724426e+00  1.94066565e-01 -1.01230473e-03 -1.36767707e-01\n",
      "   4.02066040e-01  4.16867222e-01  5.62555026e-01  1.02873950e+00\n",
      "   1.09019774e+00  2.10712626e-01  6.45560484e-01  1.00792770e+00\n",
      "  -1.84749264e-01  9.68725309e-01  4.50008326e-01  3.06303705e-01\n",
      "   4.95400677e-02 -4.89742415e-01]]\n"
     ]
    }
   ],
   "source": [
    "ridge = Ridge(alpha=1)\n",
    "ridge.fit(X_train,y_train)\n",
    "print (\"Ridge model:\", (ridge.coef_))"
   ]
  },
  {
   "cell_type": "code",
   "execution_count": 67,
   "metadata": {},
   "outputs": [
    {
     "name": "stdout",
     "output_type": "stream",
     "text": [
      "0.9200983304122193\n",
      "0.8572159964789557\n"
     ]
    }
   ],
   "source": [
    "print(ridge.score(X_train, y_train))\n",
    "print(ridge.score(X_test, y_test))"
   ]
  },
  {
   "cell_type": "markdown",
   "metadata": {},
   "source": [
    "## LASSO - modify ALPHA values to get better score"
   ]
  },
  {
   "cell_type": "code",
   "execution_count": 74,
   "metadata": {},
   "outputs": [
    {
     "name": "stdout",
     "output_type": "stream",
     "text": [
      "Lasso model: [-0.         -0.         -1.29512682 -5.13889594 -0.          2.81617244\n",
      "  0.          0.          0.         -0.          0.          0.\n",
      "  0.          0.         -0.          0.          0.         -0.\n",
      "  0.          0.          0.1992994  -0.         -0.         -0.\n",
      " -0.         -0.          0.          0.         -0.         -0.528416\n",
      " -0.         -0.         -0.          1.09341203 -0.         -0.\n",
      " -0.         -0.         -0.          0.          0.12428471 -0.\n",
      "  0.16431421  0.61434992  0.51474933  0.          0.07423823  0.08444451\n",
      " -0.          0.          0.          0.10224055 -0.          0.16432798]\n"
     ]
    }
   ],
   "source": [
    "lasso = Lasso(alpha=0.2)\n",
    "lasso.fit(X_train,y_train)\n",
    "print (\"Lasso model:\", (lasso.coef_))"
   ]
  },
  {
   "cell_type": "code",
   "execution_count": 75,
   "metadata": {},
   "outputs": [
    {
     "name": "stdout",
     "output_type": "stream",
     "text": [
      "0.8862674336344545\n",
      "0.8820190094307797\n"
     ]
    }
   ],
   "source": [
    "print(lasso.score(X_train, y_train))\n",
    "print(lasso.score(X_test, y_test))"
   ]
  },
  {
   "cell_type": "code",
   "execution_count": null,
   "metadata": {},
   "outputs": [],
   "source": []
  }
 ],
 "metadata": {
  "kernelspec": {
   "display_name": "Python 3",
   "language": "python",
   "name": "python3"
  },
  "language_info": {
   "codemirror_mode": {
    "name": "ipython",
    "version": 3
   },
   "file_extension": ".py",
   "mimetype": "text/x-python",
   "name": "python",
   "nbconvert_exporter": "python",
   "pygments_lexer": "ipython3",
   "version": "3.5.4"
  }
 },
 "nbformat": 4,
 "nbformat_minor": 2
}
