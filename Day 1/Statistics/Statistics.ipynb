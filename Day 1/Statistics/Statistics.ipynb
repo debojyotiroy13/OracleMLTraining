{
 "cells": [
  {
   "cell_type": "code",
   "execution_count": 46,
   "metadata": {},
   "outputs": [],
   "source": [
    "import numpy as np\n",
    "import pandas as pd\n",
    "import matplotlib.pyplot as plt"
   ]
  },
  {
   "cell_type": "code",
   "execution_count": 47,
   "metadata": {},
   "outputs": [],
   "source": [
    "# read dataset \n",
    "store_df = pd.read_csv('Store.csv')\n"
   ]
  },
  {
   "cell_type": "code",
   "execution_count": 48,
   "metadata": {},
   "outputs": [
    {
     "data": {
      "text/html": [
       "<div>\n",
       "<style scoped>\n",
       "    .dataframe tbody tr th:only-of-type {\n",
       "        vertical-align: middle;\n",
       "    }\n",
       "\n",
       "    .dataframe tbody tr th {\n",
       "        vertical-align: top;\n",
       "    }\n",
       "\n",
       "    .dataframe thead th {\n",
       "        text-align: right;\n",
       "    }\n",
       "</style>\n",
       "<table border=\"1\" class=\"dataframe\">\n",
       "  <thead>\n",
       "    <tr style=\"text-align: right;\">\n",
       "      <th></th>\n",
       "      <th>Observation</th>\n",
       "      <th>NearMetro</th>\n",
       "      <th>StoreArea</th>\n",
       "      <th>ItemsAvailable</th>\n",
       "      <th>Parking</th>\n",
       "      <th>CouponCategory</th>\n",
       "      <th>StoreSales</th>\n",
       "    </tr>\n",
       "  </thead>\n",
       "  <tbody>\n",
       "    <tr>\n",
       "      <td>0</td>\n",
       "      <td>1</td>\n",
       "      <td>N</td>\n",
       "      <td>1015</td>\n",
       "      <td>910</td>\n",
       "      <td>NP</td>\n",
       "      <td>CAT C</td>\n",
       "      <td>31180</td>\n",
       "    </tr>\n",
       "    <tr>\n",
       "      <td>1</td>\n",
       "      <td>2</td>\n",
       "      <td>N</td>\n",
       "      <td>15000</td>\n",
       "      <td>940</td>\n",
       "      <td>NP</td>\n",
       "      <td>CAT C</td>\n",
       "      <td>150000</td>\n",
       "    </tr>\n",
       "    <tr>\n",
       "      <td>2</td>\n",
       "      <td>3</td>\n",
       "      <td>N</td>\n",
       "      <td>909</td>\n",
       "      <td>980</td>\n",
       "      <td>OP</td>\n",
       "      <td>CAT C</td>\n",
       "      <td>33739</td>\n",
       "    </tr>\n",
       "    <tr>\n",
       "      <td>3</td>\n",
       "      <td>4</td>\n",
       "      <td>Y</td>\n",
       "      <td>1108</td>\n",
       "      <td>970</td>\n",
       "      <td>OP</td>\n",
       "      <td>CAT C</td>\n",
       "      <td>35748</td>\n",
       "    </tr>\n",
       "    <tr>\n",
       "      <td>4</td>\n",
       "      <td>5</td>\n",
       "      <td>Y</td>\n",
       "      <td>954</td>\n",
       "      <td>1010</td>\n",
       "      <td>NP</td>\n",
       "      <td>CAT C</td>\n",
       "      <td>38530</td>\n",
       "    </tr>\n",
       "    <tr>\n",
       "      <td>5</td>\n",
       "      <td>6</td>\n",
       "      <td>N</td>\n",
       "      <td>1165</td>\n",
       "      <td>990</td>\n",
       "      <td>NP</td>\n",
       "      <td>CAT A</td>\n",
       "      <td>38620</td>\n",
       "    </tr>\n",
       "    <tr>\n",
       "      <td>6</td>\n",
       "      <td>7</td>\n",
       "      <td>N</td>\n",
       "      <td>1232</td>\n",
       "      <td>1110</td>\n",
       "      <td>OP</td>\n",
       "      <td>CAT C</td>\n",
       "      <td>39473</td>\n",
       "    </tr>\n",
       "    <tr>\n",
       "      <td>7</td>\n",
       "      <td>8</td>\n",
       "      <td>Y</td>\n",
       "      <td>1207</td>\n",
       "      <td>1109</td>\n",
       "      <td>OP</td>\n",
       "      <td>CAT A</td>\n",
       "      <td>39615</td>\n",
       "    </tr>\n",
       "    <tr>\n",
       "      <td>8</td>\n",
       "      <td>9</td>\n",
       "      <td>N</td>\n",
       "      <td>1026</td>\n",
       "      <td>1142</td>\n",
       "      <td>OP</td>\n",
       "      <td>CAT C</td>\n",
       "      <td>40174</td>\n",
       "    </tr>\n",
       "    <tr>\n",
       "      <td>9</td>\n",
       "      <td>10</td>\n",
       "      <td>N</td>\n",
       "      <td>1286</td>\n",
       "      <td>1128</td>\n",
       "      <td>OP</td>\n",
       "      <td>CAT C</td>\n",
       "      <td>40955</td>\n",
       "    </tr>\n",
       "  </tbody>\n",
       "</table>\n",
       "</div>"
      ],
      "text/plain": [
       "   Observation NearMetro  StoreArea  ItemsAvailable Parking CouponCategory  \\\n",
       "0            1         N       1015             910      NP          CAT C   \n",
       "1            2         N      15000             940      NP          CAT C   \n",
       "2            3         N        909             980      OP          CAT C   \n",
       "3            4         Y       1108             970      OP          CAT C   \n",
       "4            5         Y        954            1010      NP          CAT C   \n",
       "5            6         N       1165             990      NP          CAT A   \n",
       "6            7         N       1232            1110      OP          CAT C   \n",
       "7            8         Y       1207            1109      OP          CAT A   \n",
       "8            9         N       1026            1142      OP          CAT C   \n",
       "9           10         N       1286            1128      OP          CAT C   \n",
       "\n",
       "   StoreSales  \n",
       "0       31180  \n",
       "1      150000  \n",
       "2       33739  \n",
       "3       35748  \n",
       "4       38530  \n",
       "5       38620  \n",
       "6       39473  \n",
       "7       39615  \n",
       "8       40174  \n",
       "9       40955  "
      ]
     },
     "execution_count": 48,
     "metadata": {},
     "output_type": "execute_result"
    }
   ],
   "source": [
    "store_df.head(10)"
   ]
  },
  {
   "cell_type": "code",
   "execution_count": 49,
   "metadata": {},
   "outputs": [
    {
     "name": "stdout",
     "output_type": "stream",
     "text": [
      "<class 'pandas.core.frame.DataFrame'>\n",
      "RangeIndex: 140 entries, 0 to 139\n",
      "Data columns (total 7 columns):\n",
      "Observation       140 non-null int64\n",
      "NearMetro         140 non-null object\n",
      "StoreArea         140 non-null int64\n",
      "ItemsAvailable    140 non-null int64\n",
      "Parking           140 non-null object\n",
      "CouponCategory    140 non-null object\n",
      "StoreSales        140 non-null int64\n",
      "dtypes: int64(4), object(3)\n",
      "memory usage: 7.8+ KB\n"
     ]
    }
   ],
   "source": [
    "store_df.info()"
   ]
  },
  {
   "cell_type": "code",
   "execution_count": 50,
   "metadata": {},
   "outputs": [
    {
     "data": {
      "text/html": [
       "<div>\n",
       "<style scoped>\n",
       "    .dataframe tbody tr th:only-of-type {\n",
       "        vertical-align: middle;\n",
       "    }\n",
       "\n",
       "    .dataframe tbody tr th {\n",
       "        vertical-align: top;\n",
       "    }\n",
       "\n",
       "    .dataframe thead th {\n",
       "        text-align: right;\n",
       "    }\n",
       "</style>\n",
       "<table border=\"1\" class=\"dataframe\">\n",
       "  <thead>\n",
       "    <tr style=\"text-align: right;\">\n",
       "      <th></th>\n",
       "      <th>Observation</th>\n",
       "      <th>StoreArea</th>\n",
       "      <th>ItemsAvailable</th>\n",
       "      <th>StoreSales</th>\n",
       "    </tr>\n",
       "  </thead>\n",
       "  <tbody>\n",
       "    <tr>\n",
       "      <td>count</td>\n",
       "      <td>140.0000</td>\n",
       "      <td>140.000000</td>\n",
       "      <td>140.000000</td>\n",
       "      <td>140.000000</td>\n",
       "    </tr>\n",
       "    <tr>\n",
       "      <td>mean</td>\n",
       "      <td>70.5000</td>\n",
       "      <td>1535.364286</td>\n",
       "      <td>1658.771429</td>\n",
       "      <td>67220.028571</td>\n",
       "    </tr>\n",
       "    <tr>\n",
       "      <td>std</td>\n",
       "      <td>40.5586</td>\n",
       "      <td>1171.876397</td>\n",
       "      <td>332.824112</td>\n",
       "      <td>16951.012051</td>\n",
       "    </tr>\n",
       "    <tr>\n",
       "      <td>min</td>\n",
       "      <td>1.0000</td>\n",
       "      <td>896.000000</td>\n",
       "      <td>910.000000</td>\n",
       "      <td>31180.000000</td>\n",
       "    </tr>\n",
       "    <tr>\n",
       "      <td>25%</td>\n",
       "      <td>35.7500</td>\n",
       "      <td>1245.750000</td>\n",
       "      <td>1432.250000</td>\n",
       "      <td>55126.000000</td>\n",
       "    </tr>\n",
       "    <tr>\n",
       "      <td>50%</td>\n",
       "      <td>70.5000</td>\n",
       "      <td>1444.000000</td>\n",
       "      <td>1706.500000</td>\n",
       "      <td>68183.500000</td>\n",
       "    </tr>\n",
       "    <tr>\n",
       "      <td>75%</td>\n",
       "      <td>105.2500</td>\n",
       "      <td>1607.250000</td>\n",
       "      <td>1896.250000</td>\n",
       "      <td>78992.750000</td>\n",
       "    </tr>\n",
       "    <tr>\n",
       "      <td>max</td>\n",
       "      <td>140.0000</td>\n",
       "      <td>15000.000000</td>\n",
       "      <td>2374.000000</td>\n",
       "      <td>150000.000000</td>\n",
       "    </tr>\n",
       "  </tbody>\n",
       "</table>\n",
       "</div>"
      ],
      "text/plain": [
       "       Observation     StoreArea  ItemsAvailable     StoreSales\n",
       "count     140.0000    140.000000      140.000000     140.000000\n",
       "mean       70.5000   1535.364286     1658.771429   67220.028571\n",
       "std        40.5586   1171.876397      332.824112   16951.012051\n",
       "min         1.0000    896.000000      910.000000   31180.000000\n",
       "25%        35.7500   1245.750000     1432.250000   55126.000000\n",
       "50%        70.5000   1444.000000     1706.500000   68183.500000\n",
       "75%       105.2500   1607.250000     1896.250000   78992.750000\n",
       "max       140.0000  15000.000000     2374.000000  150000.000000"
      ]
     },
     "execution_count": 50,
     "metadata": {},
     "output_type": "execute_result"
    }
   ],
   "source": [
    "store_df.describe()"
   ]
  },
  {
   "cell_type": "code",
   "execution_count": 51,
   "metadata": {},
   "outputs": [],
   "source": [
    "CouponCategoryData = store_df[\"CouponCategory\"]"
   ]
  },
  {
   "cell_type": "code",
   "execution_count": 52,
   "metadata": {},
   "outputs": [
    {
     "data": {
      "text/plain": [
       "0    CAT A\n",
       "dtype: object"
      ]
     },
     "execution_count": 52,
     "metadata": {},
     "output_type": "execute_result"
    }
   ],
   "source": [
    "mode1 = CouponCategoryData.mode()\n",
    "mode1"
   ]
  },
  {
   "cell_type": "code",
   "execution_count": 53,
   "metadata": {},
   "outputs": [
    {
     "data": {
      "text/plain": [
       "array(['CAT C', 'CAT A', 'CAT B'], dtype=object)"
      ]
     },
     "execution_count": 53,
     "metadata": {},
     "output_type": "execute_result"
    }
   ],
   "source": [
    "store_df[\"CouponCategory\"].unique()"
   ]
  },
  {
   "cell_type": "code",
   "execution_count": 54,
   "metadata": {},
   "outputs": [
    {
     "data": {
      "text/plain": [
       "CAT A    86\n",
       "CAT C    51\n",
       "CAT B     3\n",
       "Name: CouponCategory, dtype: int64"
      ]
     },
     "execution_count": 54,
     "metadata": {},
     "output_type": "execute_result"
    }
   ],
   "source": [
    "store_df['CouponCategory'].value_counts()"
   ]
  },
  {
   "cell_type": "code",
   "execution_count": 55,
   "metadata": {},
   "outputs": [
    {
     "data": {
      "text/plain": [
       "N    87\n",
       "Y    53\n",
       "Name: NearMetro, dtype: int64"
      ]
     },
     "execution_count": 55,
     "metadata": {},
     "output_type": "execute_result"
    }
   ],
   "source": [
    "store_df['NearMetro'].value_counts()"
   ]
  },
  {
   "cell_type": "code",
   "execution_count": 56,
   "metadata": {},
   "outputs": [
    {
     "data": {
      "text/plain": [
       "OP    90\n",
       "NP    50\n",
       "Name: Parking, dtype: int64"
      ]
     },
     "execution_count": 56,
     "metadata": {},
     "output_type": "execute_result"
    }
   ],
   "source": [
    "store_df['Parking'].value_counts()"
   ]
  },
  {
   "cell_type": "code",
   "execution_count": 57,
   "metadata": {},
   "outputs": [
    {
     "data": {
      "image/png": "[encoded data removed]",
      "text/plain": [
       "<Figure size 432x288 with 1 Axes>"
      ]
     },
     "metadata": {
      "needs_background": "light"
     },
     "output_type": "display_data"
    }
   ],
   "source": [
    "#plt.hist(StoreSalesData, bins = 20, color = \"green\") \n",
    "plt.hist(store_df['StoreSales'], bins = 10, color = \"green\") \n",
    "\n",
    "plt.show()"
   ]
  },
  {
   "cell_type": "code",
   "execution_count": 59,
   "metadata": {},
   "outputs": [
    {
     "data": {
      "image/png": "[encoded data removed]",
      "text/plain": [
       "<Figure size 432x288 with 1 Axes>"
      ]
     },
     "metadata": {
      "needs_background": "light"
     },
     "output_type": "display_data"
    }
   ],
   "source": [
    "plt.boxplot(store_df['StoreSales'])\n",
    "plt.show()"
   ]
  },
  {
   "cell_type": "code",
   "execution_count": 41,
   "metadata": {},
   "outputs": [
    {
     "data": {
      "image/png": "[encoded data removed]",
      "text/plain": [
       "<Figure size 432x288 with 1 Axes>"
      ]
     },
     "metadata": {
      "needs_background": "light"
     },
     "output_type": "display_data"
    }
   ],
   "source": [
    "plt.boxplot(store_df['StoreArea'])\n",
    "plt.show()"
   ]
  },
  {
   "cell_type": "code",
   "execution_count": 42,
   "metadata": {},
   "outputs": [
    {
     "data": {
      "image/png": "[encoded data removed]",
      "text/plain": [
       "<Figure size 432x288 with 1 Axes>"
      ]
     },
     "metadata": {
      "needs_background": "light"
     },
     "output_type": "display_data"
    }
   ],
   "source": [
    "store_df.boxplot(\"StoreSales\",by='Parking')\n",
    "plt.show()"
   ]
  },
  {
   "cell_type": "code",
   "execution_count": 43,
   "metadata": {},
   "outputs": [
    {
     "data": {
      "image/png": "[encoded data removed]",
      "text/plain": [
       "<Figure size 432x288 with 1 Axes>"
      ]
     },
     "metadata": {
      "needs_background": "light"
     },
     "output_type": "display_data"
    }
   ],
   "source": [
    "store_df.boxplot(\"StoreSales\",by='CouponCategory')\n",
    "plt.show()"
   ]
  },
  {
   "cell_type": "code",
   "execution_count": 44,
   "metadata": {},
   "outputs": [
    {
     "data": {
      "image/png": "[encoded data removed]",
      "text/plain": [
       "<Figure size 432x288 with 1 Axes>"
      ]
     },
     "metadata": {
      "needs_background": "light"
     },
     "output_type": "display_data"
    }
   ],
   "source": [
    "store_df.boxplot(\"StoreSales\",by='NearMetro')\n",
    "plt.show()"
   ]
  },
  {
   "cell_type": "code",
   "execution_count": 45,
   "metadata": {},
   "outputs": [
    {
     "data": {
      "text/html": [
       "<div>\n",
       "<style scoped>\n",
       "    .dataframe tbody tr th:only-of-type {\n",
       "        vertical-align: middle;\n",
       "    }\n",
       "\n",
       "    .dataframe tbody tr th {\n",
       "        vertical-align: top;\n",
       "    }\n",
       "\n",
       "    .dataframe thead th {\n",
       "        text-align: right;\n",
       "    }\n",
       "</style>\n",
       "<table border=\"1\" class=\"dataframe\">\n",
       "  <thead>\n",
       "    <tr style=\"text-align: right;\">\n",
       "      <th></th>\n",
       "      <th>Parking</th>\n",
       "      <th>NP</th>\n",
       "      <th>OP</th>\n",
       "    </tr>\n",
       "  </thead>\n",
       "  <tbody>\n",
       "    <tr>\n",
       "      <td rowspan=\"8\" valign=\"top\">Observation</td>\n",
       "      <td>count</td>\n",
       "      <td>50.000000</td>\n",
       "      <td>90.000000</td>\n",
       "    </tr>\n",
       "    <tr>\n",
       "      <td>mean</td>\n",
       "      <td>66.140000</td>\n",
       "      <td>72.922222</td>\n",
       "    </tr>\n",
       "    <tr>\n",
       "      <td>std</td>\n",
       "      <td>37.955941</td>\n",
       "      <td>41.944915</td>\n",
       "    </tr>\n",
       "    <tr>\n",
       "      <td>min</td>\n",
       "      <td>1.000000</td>\n",
       "      <td>3.000000</td>\n",
       "    </tr>\n",
       "    <tr>\n",
       "      <td>25%</td>\n",
       "      <td>34.250000</td>\n",
       "      <td>38.000000</td>\n",
       "    </tr>\n",
       "    <tr>\n",
       "      <td>50%</td>\n",
       "      <td>69.000000</td>\n",
       "      <td>72.500000</td>\n",
       "    </tr>\n",
       "    <tr>\n",
       "      <td>75%</td>\n",
       "      <td>92.750000</td>\n",
       "      <td>108.750000</td>\n",
       "    </tr>\n",
       "    <tr>\n",
       "      <td>max</td>\n",
       "      <td>129.000000</td>\n",
       "      <td>140.000000</td>\n",
       "    </tr>\n",
       "    <tr>\n",
       "      <td rowspan=\"8\" valign=\"top\">StoreArea</td>\n",
       "      <td>count</td>\n",
       "      <td>50.000000</td>\n",
       "      <td>90.000000</td>\n",
       "    </tr>\n",
       "    <tr>\n",
       "      <td>mean</td>\n",
       "      <td>1708.980000</td>\n",
       "      <td>1438.911111</td>\n",
       "    </tr>\n",
       "    <tr>\n",
       "      <td>std</td>\n",
       "      <td>1934.022344</td>\n",
       "      <td>243.149219</td>\n",
       "    </tr>\n",
       "    <tr>\n",
       "      <td>min</td>\n",
       "      <td>902.000000</td>\n",
       "      <td>896.000000</td>\n",
       "    </tr>\n",
       "    <tr>\n",
       "      <td>25%</td>\n",
       "      <td>1241.000000</td>\n",
       "      <td>1257.000000</td>\n",
       "    </tr>\n",
       "    <tr>\n",
       "      <td>50%</td>\n",
       "      <td>1456.500000</td>\n",
       "      <td>1440.500000</td>\n",
       "    </tr>\n",
       "    <tr>\n",
       "      <td>75%</td>\n",
       "      <td>1627.250000</td>\n",
       "      <td>1589.500000</td>\n",
       "    </tr>\n",
       "    <tr>\n",
       "      <td>max</td>\n",
       "      <td>15000.000000</td>\n",
       "      <td>1948.000000</td>\n",
       "    </tr>\n",
       "    <tr>\n",
       "      <td rowspan=\"8\" valign=\"top\">ItemsAvailable</td>\n",
       "      <td>count</td>\n",
       "      <td>50.000000</td>\n",
       "      <td>90.000000</td>\n",
       "    </tr>\n",
       "    <tr>\n",
       "      <td>mean</td>\n",
       "      <td>1621.000000</td>\n",
       "      <td>1679.755556</td>\n",
       "    </tr>\n",
       "    <tr>\n",
       "      <td>std</td>\n",
       "      <td>337.171246</td>\n",
       "      <td>330.403067</td>\n",
       "    </tr>\n",
       "    <tr>\n",
       "      <td>min</td>\n",
       "      <td>910.000000</td>\n",
       "      <td>970.000000</td>\n",
       "    </tr>\n",
       "    <tr>\n",
       "      <td>25%</td>\n",
       "      <td>1405.750000</td>\n",
       "      <td>1463.000000</td>\n",
       "    </tr>\n",
       "    <tr>\n",
       "      <td>50%</td>\n",
       "      <td>1690.000000</td>\n",
       "      <td>1734.500000</td>\n",
       "    </tr>\n",
       "    <tr>\n",
       "      <td>75%</td>\n",
       "      <td>1818.250000</td>\n",
       "      <td>1923.750000</td>\n",
       "    </tr>\n",
       "    <tr>\n",
       "      <td>max</td>\n",
       "      <td>2310.000000</td>\n",
       "      <td>2374.000000</td>\n",
       "    </tr>\n",
       "    <tr>\n",
       "      <td rowspan=\"8\" valign=\"top\">StoreSales</td>\n",
       "      <td>count</td>\n",
       "      <td>50.000000</td>\n",
       "      <td>90.000000</td>\n",
       "    </tr>\n",
       "    <tr>\n",
       "      <td>mean</td>\n",
       "      <td>64267.400000</td>\n",
       "      <td>67548.600000</td>\n",
       "    </tr>\n",
       "    <tr>\n",
       "      <td>std</td>\n",
       "      <td>14408.020745</td>\n",
       "      <td>16323.414680</td>\n",
       "    </tr>\n",
       "    <tr>\n",
       "      <td>min</td>\n",
       "      <td>31180.000000</td>\n",
       "      <td>33739.000000</td>\n",
       "    </tr>\n",
       "    <tr>\n",
       "      <td>25%</td>\n",
       "      <td>54615.000000</td>\n",
       "      <td>55772.000000</td>\n",
       "    </tr>\n",
       "    <tr>\n",
       "      <td>50%</td>\n",
       "      <td>66727.500000</td>\n",
       "      <td>68350.500000</td>\n",
       "    </tr>\n",
       "    <tr>\n",
       "      <td>75%</td>\n",
       "      <td>75247.500000</td>\n",
       "      <td>79885.500000</td>\n",
       "    </tr>\n",
       "    <tr>\n",
       "      <td>max</td>\n",
       "      <td>86890.000000</td>\n",
       "      <td>98100.000000</td>\n",
       "    </tr>\n",
       "  </tbody>\n",
       "</table>\n",
       "</div>"
      ],
      "text/plain": [
       "Parking                         NP            OP\n",
       "Observation    count     50.000000     90.000000\n",
       "               mean      66.140000     72.922222\n",
       "               std       37.955941     41.944915\n",
       "               min        1.000000      3.000000\n",
       "               25%       34.250000     38.000000\n",
       "               50%       69.000000     72.500000\n",
       "               75%       92.750000    108.750000\n",
       "               max      129.000000    140.000000\n",
       "StoreArea      count     50.000000     90.000000\n",
       "               mean    1708.980000   1438.911111\n",
       "               std     1934.022344    243.149219\n",
       "               min      902.000000    896.000000\n",
       "               25%     1241.000000   1257.000000\n",
       "               50%     1456.500000   1440.500000\n",
       "               75%     1627.250000   1589.500000\n",
       "               max    15000.000000   1948.000000\n",
       "ItemsAvailable count     50.000000     90.000000\n",
       "               mean    1621.000000   1679.755556\n",
       "               std      337.171246    330.403067\n",
       "               min      910.000000    970.000000\n",
       "               25%     1405.750000   1463.000000\n",
       "               50%     1690.000000   1734.500000\n",
       "               75%     1818.250000   1923.750000\n",
       "               max     2310.000000   2374.000000\n",
       "StoreSales     count     50.000000     90.000000\n",
       "               mean   64267.400000  67548.600000\n",
       "               std    14408.020745  16323.414680\n",
       "               min    31180.000000  33739.000000\n",
       "               25%    54615.000000  55772.000000\n",
       "               50%    66727.500000  68350.500000\n",
       "               75%    75247.500000  79885.500000\n",
       "               max    86890.000000  98100.000000"
      ]
     },
     "execution_count": 45,
     "metadata": {},
     "output_type": "execute_result"
    }
   ],
   "source": [
    "store_df.groupby('Parking').describe().T"
   ]
  },
  {
   "cell_type": "code",
   "execution_count": null,
   "metadata": {},
   "outputs": [],
   "source": []
  },
  {
   "cell_type": "code",
   "execution_count": null,
   "metadata": {},
   "outputs": [],
   "source": []
  }
 ],
 "metadata": {
  "kernelspec": {
   "display_name": "Python 3",
   "language": "python",
   "name": "python3"
  },
  "language_info": {
   "codemirror_mode": {
    "name": "ipython",
    "version": 3
   },
   "file_extension": ".py",
   "mimetype": "text/x-python",
   "name": "python",
   "nbconvert_exporter": "python",
   "pygments_lexer": "ipython3",
   "version": "3.7.4"
  },
  "widgets": {
   "state": {},
   "version": "1.1.2"
  }
 },
 "nbformat": 4,
 "nbformat_minor": 2
}
