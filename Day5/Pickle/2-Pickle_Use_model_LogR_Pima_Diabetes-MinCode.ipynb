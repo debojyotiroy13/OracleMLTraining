{
 "cells": [
  {
   "cell_type": "code",
   "execution_count": 9,
   "metadata": {},
   "outputs": [],
   "source": [
    "import pandas as pd\n",
    "import numpy as np\n",
    "#from sklearn.model_selection import train_test_split\n",
    "from sklearn import metrics\n",
    "\n",
    "import pickle"
   ]
  },
  {
   "cell_type": "code",
   "execution_count": 24,
   "metadata": {},
   "outputs": [],
   "source": [
    "# read file\n",
    "\n",
    "#pima_df = pd.read_csv(\"pima_diabetes.csv\")"
   ]
  },
  {
   "cell_type": "code",
   "execution_count": 23,
   "metadata": {},
   "outputs": [],
   "source": [
    "# Though this file contains Y, \n",
    "# in real production, we will not have Y in inpiut file \n",
    "\n",
    "#X = pima_df.drop([\"Class\"], axis=1)\n",
    "#y = pima_df[[\"Class\"]]"
   ]
  },
  {
   "cell_type": "code",
   "execution_count": 34,
   "metadata": {},
   "outputs": [],
   "source": [
    "# load trained model\n",
    "\n",
    "#filename = 'Logit_model-1.sav'\n",
    "#loaded_model = pickle.load(open(filename, 'rb'))\n",
    "\n"
   ]
  },
  {
   "cell_type": "code",
   "execution_count": 35,
   "metadata": {},
   "outputs": [],
   "source": [
    "# following code of checking accuracy is not possible\n",
    "# in production as Y is not known\n",
    "\n",
    "#y_predict = loaded_model.predict(X)\n",
    "#print(metrics.accuracy_score(y, y_predict))\n",
    "#print(metrics.confusion_matrix(y, y_predict))"
   ]
  },
  {
   "cell_type": "code",
   "execution_count": 28,
   "metadata": {},
   "outputs": [],
   "source": [
    "\n",
    "# =============================================================\n",
    "# In Production, the input file will contain only X\n",
    "# We perform prediciton using loaded Trained Model\n",
    "# we will not know Y so accuracy cannot be measured \n",
    "# =============================================================\n"
   ]
  },
  {
   "cell_type": "code",
   "execution_count": 37,
   "metadata": {},
   "outputs": [],
   "source": [
    "# Read file containing only Xs\n",
    "\n",
    "X = pd.read_csv(\"pima_diabetes_X_only.csv\")"
   ]
  },
  {
   "cell_type": "code",
   "execution_count": 38,
   "metadata": {},
   "outputs": [],
   "source": [
    "filename = 'Logit_model-1.sav'\n",
    "loaded_model = pickle.load(open(filename, 'rb'))\n",
    "y_predict = loaded_model.predict(X)"
   ]
  },
  {
   "cell_type": "code",
   "execution_count": 39,
   "metadata": {},
   "outputs": [],
   "source": [
    "np.savetxt(\"predicted.csv\", y_predict, delimiter=\",\")"
   ]
  },
  {
   "cell_type": "code",
   "execution_count": null,
   "metadata": {},
   "outputs": [],
   "source": []
  }
 ],
 "metadata": {
  "kernelspec": {
   "display_name": "Python 3",
   "language": "python",
   "name": "python3"
  },
  "language_info": {
   "codemirror_mode": {
    "name": "ipython",
    "version": 3
   },
   "file_extension": ".py",
   "mimetype": "text/x-python",
   "name": "python",
   "nbconvert_exporter": "python",
   "pygments_lexer": "ipython3",
   "version": "3.7.4"
  }
 },
 "nbformat": 4,
 "nbformat_minor": 2
}
