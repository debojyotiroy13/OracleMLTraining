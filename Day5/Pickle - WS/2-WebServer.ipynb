{
 "cells": [
  {
   "cell_type": "code",
   "execution_count": null,
   "metadata": {},
   "outputs": [],
   "source": [
    "import pandas as pd\n",
    "import numpy as np\n",
    "#from sklearn import linear_model\n",
    "import pickle"
   ]
  },
  {
   "cell_type": "code",
   "execution_count": null,
   "metadata": {},
   "outputs": [],
   "source": [
    "# Creating web server using flask here. \n",
    "# It has two routes defined. One for printing \"Hello Mukesh\"\n",
    "# The other to call the predict() function of the model\n",
    "\n",
    "from flask import Flask\n",
    "from flask import request\n",
    "from flask import jsonify\n",
    "\n",
    "#code which helps initialize our server\n",
    "app = Flask(__name__)\n",
    "\n",
    "\n",
    "# Using pickle to upload the model into memory of the webserver\n",
    "# Linear models hold only the coefficients and the intercept. All these will be available in the object\n",
    "# Had this been KNN, then we need to install the database and connnect the model to the dataset as KNN needs entier data\n",
    "\n",
    "model = pickle.load(open(\"Logit_model-2.sav\",\"rb\"  ))    # Deserializing the model from the .pkl file. This should be available on server\n",
    "\n",
    "@app.route('/predict', methods=['POST'])    # What needs to be done for request to predict\n",
    "\n",
    "\n",
    "def predict():\n",
    "    #grabbing a set of wine features from the request's body\n",
    "    feature_array = np.array(request.get_json()['features'])\n",
    "\n",
    "    #our model rates the wine based on the input array\n",
    "    prediction = model.predict([feature_array]).tolist()\n",
    "        \n",
    "    #preparing a response object and storing the model's predictions\n",
    "    response = {}\n",
    "    response['Prediction: '] = prediction\n",
    "    \n",
    "    #sending our response object back as json\n",
    "    # return flask.jsonify(response)\n",
    "    return jsonify(response)\n"
   ]
  },
  {
   "cell_type": "code",
   "execution_count": null,
   "metadata": {},
   "outputs": [],
   "source": [
    "if __name__ == '__main__':\n",
    "    app.run(port=5000, debug=True , use_reloader=False)"
   ]
  },
  {
   "cell_type": "code",
   "execution_count": null,
   "metadata": {},
   "outputs": [],
   "source": []
  }
 ],
 "metadata": {
  "kernelspec": {
   "display_name": "Python 3",
   "language": "python",
   "name": "python3"
  },
  "language_info": {
   "codemirror_mode": {
    "name": "ipython",
    "version": 3
   },
   "file_extension": ".py",
   "mimetype": "text/x-python",
   "name": "python",
   "nbconvert_exporter": "python",
   "pygments_lexer": "ipython3",
   "version": "3.7.4"
  }
 },
 "nbformat": 4,
 "nbformat_minor": 2
}
